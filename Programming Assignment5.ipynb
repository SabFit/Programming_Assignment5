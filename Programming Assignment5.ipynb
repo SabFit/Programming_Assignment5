{
 "cells": [
  {
   "cell_type": "markdown",
   "id": "75a41df1-44fb-4ef9-9479-ad6c3a9748a7",
   "metadata": {},
   "source": [
    "1.\tWrite a Python Program to Find LCM?"
   ]
  },
  {
   "cell_type": "code",
   "execution_count": 3,
   "id": "47e8d066-06b4-4d52-aa01-0cf232f0dadb",
   "metadata": {},
   "outputs": [
    {
     "name": "stdin",
     "output_type": "stream",
     "text": [
      "Enter first Number\n",
      " 12\n",
      "Enter second number\n",
      " 24\n"
     ]
    },
    {
     "name": "stdout",
     "output_type": "stream",
     "text": [
      "The LCM of 12 and24 is 24\n"
     ]
    }
   ],
   "source": [
    "a=int(input(\"Enter first Number\\n\"))\n",
    "b=int(input(\"Enter second number\\n\"))\n",
    "\n",
    "maxNum=max(a,b)\n",
    "\n",
    "while(True):\n",
    "    if(maxNum%a==0 and maxNum%b==0):\n",
    "        break\n",
    "    maxNum=maxNum+1\n",
    "\n",
    "print(f\"The LCM of {a} and{b} is {maxNum}\")    "
   ]
  },
  {
   "cell_type": "markdown",
   "id": "70438cec-7373-492b-a70b-b37419d16d0e",
   "metadata": {},
   "source": [
    "2.\tWrite a Python Program to Find HCF?"
   ]
  },
  {
   "cell_type": "code",
   "execution_count": 5,
   "id": "dc7b94b9-8ef9-4b49-a38c-bb9fe87844b2",
   "metadata": {},
   "outputs": [
    {
     "name": "stdin",
     "output_type": "stream",
     "text": [
      "Enter the first number\n",
      " 4\n",
      "Enter the second number\n",
      " 28\n"
     ]
    },
    {
     "name": "stdout",
     "output_type": "stream",
     "text": [
      "The HCF of two numbers is 4\n"
     ]
    }
   ],
   "source": [
    "num1=int(input(\"Enter the first number\\n\"))\n",
    "num2=int(input(\"Enter the second number\\n\"))\n",
    "\n",
    "if num2>num1:\n",
    "         mn=num1\n",
    "         \n",
    "else:\n",
    "    mn=num2\n",
    "         \n",
    "for i in range(1,mn+1):\n",
    "         if num1%i==0 and num2%i==0:\n",
    "             hcf=i\n",
    "\n",
    "print(f\"The HCF of two numbers is {hcf}\")         \n",
    "         "
   ]
  },
  {
   "cell_type": "markdown",
   "id": "443b285f-c7bb-4e59-a120-c714c3bbddc2",
   "metadata": {},
   "source": [
    "3.\tWrite a Python Program to Convert Decimal to Binary, Octal and Hexadecimal?"
   ]
  },
  {
   "cell_type": "code",
   "execution_count": 6,
   "id": "7abaacdb-cf9b-41c7-b027-59c59aa80677",
   "metadata": {},
   "outputs": [
    {
     "name": "stdin",
     "output_type": "stream",
     "text": [
      "Enter the number here: 12\n"
     ]
    },
    {
     "name": "stdout",
     "output_type": "stream",
     "text": [
      "the conversion of decimal 12 is:\n",
      "0b1100 in binary\n",
      "0o14 in octal\n",
      "0xc in hexadecimal\n"
     ]
    }
   ],
   "source": [
    "decimal=int(input(\"Enter the number here:\"))\n",
    "\n",
    "print(\"the conversion of decimal\", decimal,\"is:\")\n",
    "print(bin(decimal),\"in binary\")\n",
    "print(oct(decimal),\"in octal\")\n",
    "print(hex(decimal),\"in hexadecimal\")"
   ]
  },
  {
   "cell_type": "markdown",
   "id": "79f90231-b8f6-4561-bbb0-37ffe0497b00",
   "metadata": {},
   "source": [
    "4.\tWrite a Python Program To Find ASCII value of a character?"
   ]
  },
  {
   "cell_type": "code",
   "execution_count": 11,
   "id": "7e42eb96-66cb-46eb-aeb6-b963723050a3",
   "metadata": {},
   "outputs": [
    {
     "name": "stdout",
     "output_type": "stream",
     "text": [
      "the ASCII value of # is 35\n"
     ]
    }
   ],
   "source": [
    "char=\"#\"\n",
    "\n",
    "print(\"the ASCII value of\",char,\"is\",ord(char))\n"
   ]
  },
  {
   "cell_type": "markdown",
   "id": "530ea6a3-8b32-4db6-935b-4f641a34ac7c",
   "metadata": {},
   "source": [
    "5.\tWrite a Python Program to Make a Simple Calculator with 4 basic mathematical operations?"
   ]
  },
  {
   "cell_type": "code",
   "execution_count": 15,
   "id": "e09e1acd-34cd-43dd-af82-4e617ce316b4",
   "metadata": {},
   "outputs": [
    {
     "name": "stdout",
     "output_type": "stream",
     "text": [
      "The value of  30 + 10 is: 40\n",
      "The value of  30 - 10 is: 20\n",
      "The value of  30 * 10 is: 300\n",
      "The value of  30 / 10 is: 3.0\n"
     ]
    }
   ],
   "source": [
    "a=30\n",
    "b=10\n",
    "\n",
    "print(\"The value of \",a,\"+\",b,\"is:\",a+b)\n",
    "print(\"The value of \",a,\"-\",b,\"is:\",a-b)\n",
    "print(\"The value of \",a,\"*\",b,\"is:\",a*b)\n",
    "print(\"The value of \",a,\"/\",b,\"is:\",a/b)\n"
   ]
  },
  {
   "cell_type": "code",
   "execution_count": null,
   "id": "1f10849e-0e37-404c-b023-741bb96282c1",
   "metadata": {},
   "outputs": [],
   "source": []
  }
 ],
 "metadata": {
  "kernelspec": {
   "display_name": "Python 3 (ipykernel)",
   "language": "python",
   "name": "python3"
  },
  "language_info": {
   "codemirror_mode": {
    "name": "ipython",
    "version": 3
   },
   "file_extension": ".py",
   "mimetype": "text/x-python",
   "name": "python",
   "nbconvert_exporter": "python",
   "pygments_lexer": "ipython3",
   "version": "3.10.6"
  }
 },
 "nbformat": 4,
 "nbformat_minor": 5
}
